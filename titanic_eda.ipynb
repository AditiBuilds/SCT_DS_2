# 1. Import libraries
import pandas as pd
import numpy as np
import matplotlib.pyplot as plt
import seaborn as sns

# 2. Load the dataset
df = pd.read_csv('train.csv')

# 3. Basic info
print(df.head())
print(df.info())

# 4. Check missing values
print(df.isnull().sum())

# 5. Handle missing data
df['Age'].fillna(df['Age'].median(), inplace=True)
df['Embarked'].fillna(df['Embarked'].mode()[0], inplace=True)
df.drop(columns=['Cabin'], inplace=True)

# 6. EDA visualizations
sns.countplot(x='Survived', data=df)
sns.countplot(x='Survived', hue='Sex', data=df)
sns.histplot(df['Age'], bins=30)
sns.boxplot(x='Survived', y='Fare', data=df)
sns.heatmap(df.corr(), annot=True)
